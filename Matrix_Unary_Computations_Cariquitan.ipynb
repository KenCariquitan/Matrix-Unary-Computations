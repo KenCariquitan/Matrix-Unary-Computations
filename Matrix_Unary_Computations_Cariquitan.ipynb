{
  "nbformat": 4,
  "nbformat_minor": 0,
  "metadata": {
    "colab": {
      "provenance": []
    },
    "kernelspec": {
      "name": "python3",
      "display_name": "Python 3"
    },
    "language_info": {
      "name": "python"
    }
  },
  "cells": [
    {
      "cell_type": "markdown",
      "source": [
        "# Section 1: Transpose of a Matrix and Symmetric Matrices\n",
        "\n",
        "###Example: Transpose of a Matrix"
      ],
      "metadata": {
        "id": "U9xd_u1rQrSi"
      }
    },
    {
      "cell_type": "code",
      "execution_count": 1,
      "metadata": {
        "id": "Ynqb4g19Ncrp"
      },
      "outputs": [],
      "source": [
        "import numpy as np\n",
        "\n",
        "# Create a 3x3 matrix\n",
        "matrix_A = np.array([[1, 2, 3],\n",
        "                     [4, 5, 6],\n",
        "                     [7, 8, 9]])"
      ]
    },
    {
      "cell_type": "code",
      "source": [
        "# Find the transpose\n",
        "transpose_A = matrix_A.T\n",
        "\n",
        "print(\"Matrix A:\\n\", matrix_A)\n",
        "print(\"\\nTranspose of Matrix A:\\n\", transpose_A)"
      ],
      "metadata": {
        "colab": {
          "base_uri": "https://localhost:8080/"
        },
        "id": "Wn2ajpGTOW34",
        "outputId": "fe254fea-2332-4b94-e3bd-815fcaa50e9a"
      },
      "execution_count": 2,
      "outputs": [
        {
          "output_type": "stream",
          "name": "stdout",
          "text": [
            "Matrix A:\n",
            " [[1 2 3]\n",
            " [4 5 6]\n",
            " [7 8 9]]\n",
            "\n",
            "Transpose of Matrix A:\n",
            " [[1 4 7]\n",
            " [2 5 8]\n",
            " [3 6 9]]\n"
          ]
        }
      ]
    },
    {
      "cell_type": "markdown",
      "source": [
        "###Symmetric Matrix"
      ],
      "metadata": {
        "id": "jDzKNSgOU1-Z"
      }
    },
    {
      "cell_type": "code",
      "source": [
        "# Check if the matrix is symmetric\n",
        "is_symmetric = (matrix_A == matrix_A.T).all()\n",
        "print(\"\\nIs Matrix A symmetric? \", is_symmetric)"
      ],
      "metadata": {
        "colab": {
          "base_uri": "https://localhost:8080/"
        },
        "id": "5HZS6xQRPr1-",
        "outputId": "8310cc91-8053-44ca-b3e4-0d747b95be9c"
      },
      "execution_count": 3,
      "outputs": [
        {
          "output_type": "stream",
          "name": "stdout",
          "text": [
            "\n",
            "Is Matrix A symmetric?  False\n"
          ]
        }
      ]
    },
    {
      "cell_type": "markdown",
      "source": [
        "##Practice Problem 1"
      ],
      "metadata": {
        "id": "LwFrLZfnU4cX"
      }
    },
    {
      "cell_type": "code",
      "source": [
        "random_matrix = np.random.randint(1, 10, (4, 4))\n",
        "transpose_random = random_matrix.T"
      ],
      "metadata": {
        "id": "IttProuOP998"
      },
      "execution_count": 4,
      "outputs": []
    },
    {
      "cell_type": "code",
      "source": [
        "# Check symmetry\n",
        "is_symmetric_random = (random_matrix == transpose_random).all()\n",
        "print(\"Random Matrix:\\n\", random_matrix)\n",
        "print(\"\\nIs the random matrix symmetric? \", is_symmetric_random)"
      ],
      "metadata": {
        "colab": {
          "base_uri": "https://localhost:8080/"
        },
        "id": "sh3zn2w8QLPi",
        "outputId": "d946a3f7-567e-48e6-b113-28d3754d9945"
      },
      "execution_count": 5,
      "outputs": [
        {
          "output_type": "stream",
          "name": "stdout",
          "text": [
            "Random Matrix:\n",
            " [[8 8 7 8]\n",
            " [4 1 5 7]\n",
            " [3 7 6 4]\n",
            " [5 8 6 1]]\n",
            "\n",
            "Is the random matrix symmetric?  False\n"
          ]
        }
      ]
    },
    {
      "cell_type": "markdown",
      "source": [
        "# Section 2: Trace of a Matrix\n",
        "\n",
        "###Example"
      ],
      "metadata": {
        "id": "ASuR8bGUQjsH"
      }
    },
    {
      "cell_type": "code",
      "source": [
        "# Calculate the trace of matrix_A\n",
        "trace_A = np.trace(matrix_A)\n",
        "print(\"\\nTrace of Matrix A:\", trace_A)"
      ],
      "metadata": {
        "colab": {
          "base_uri": "https://localhost:8080/"
        },
        "id": "XYwc_7bWQ5o9",
        "outputId": "dbe2d8f0-4e63-4a35-e7af-03ac2b15955d"
      },
      "execution_count": 6,
      "outputs": [
        {
          "output_type": "stream",
          "name": "stdout",
          "text": [
            "\n",
            "Trace of Matrix A: 15\n"
          ]
        }
      ]
    },
    {
      "cell_type": "markdown",
      "source": [
        "###Q3: What is the trace of the following matrix?"
      ],
      "metadata": {
        "id": "cueY247BUiD9"
      }
    },
    {
      "cell_type": "code",
      "source": [
        "matrix_B = np.array([[10, 20, 30],\n",
        "                   [5, 15, 25],\n",
        "                   [2, 4, 6]])"
      ],
      "metadata": {
        "id": "CyyppMD7Q8WS"
      },
      "execution_count": 10,
      "outputs": []
    },
    {
      "cell_type": "code",
      "source": [
        "# Calculate the trace of matrix_B\n",
        "trace_B= np.trace(matrix_B)\n",
        "print(\"\\nTrace of Matrix A:\", trace_B)"
      ],
      "metadata": {
        "colab": {
          "base_uri": "https://localhost:8080/"
        },
        "id": "WobcwMaXROYR",
        "outputId": "a95b4045-4d9e-4f60-b738-7552acbee41e"
      },
      "execution_count": 11,
      "outputs": [
        {
          "output_type": "stream",
          "name": "stdout",
          "text": [
            "\n",
            "Trace of Matrix A: 31\n"
          ]
        }
      ]
    },
    {
      "cell_type": "markdown",
      "source": [
        "##Practice Problem 2:"
      ],
      "metadata": {
        "id": "LyUXkw95Udea"
      }
    },
    {
      "cell_type": "code",
      "source": [
        "random_matrix_5x5 = np.random.rand(5, 5)\n",
        "random_matrix_5x5"
      ],
      "metadata": {
        "colab": {
          "base_uri": "https://localhost:8080/"
        },
        "id": "hhw48017RdH5",
        "outputId": "300c0ce5-bcee-4df0-e259-957dc7c18571"
      },
      "execution_count": 12,
      "outputs": [
        {
          "output_type": "execute_result",
          "data": {
            "text/plain": [
              "array([[0.72914003, 0.43651214, 0.83768994, 0.77026529, 0.92056283],\n",
              "       [0.93123234, 0.44932007, 0.24563945, 0.036887  , 0.39500152],\n",
              "       [0.29187337, 0.60363352, 0.72344067, 0.10930482, 0.24638829],\n",
              "       [0.61299381, 0.06081419, 0.86074358, 0.84835347, 0.18940459],\n",
              "       [0.37937313, 0.2855679 , 0.28560761, 0.60330291, 0.40389955]])"
            ]
          },
          "metadata": {},
          "execution_count": 12
        }
      ]
    },
    {
      "cell_type": "code",
      "source": [
        "trace_random_matrix= np.trace(random_matrix_5x5)\n",
        "print(\"\\nTrace of Matrix A:\", trace_random_matrix)"
      ],
      "metadata": {
        "colab": {
          "base_uri": "https://localhost:8080/"
        },
        "id": "zqGug9dFRqQC",
        "outputId": "5a653761-9ecc-4679-a8f5-ebf1a0feade2"
      },
      "execution_count": 13,
      "outputs": [
        {
          "output_type": "stream",
          "name": "stdout",
          "text": [
            "\n",
            "Trace of Matrix A: 3.1541537937294173\n"
          ]
        }
      ]
    },
    {
      "cell_type": "markdown",
      "source": [
        "# Section 3: Determinant using the Cofactor Method"
      ],
      "metadata": {
        "id": "AJOmSF7OST_q"
      }
    },
    {
      "cell_type": "markdown",
      "source": [
        "##Example: Determinant of a 3×3 Matrix"
      ],
      "metadata": {
        "id": "Ly4jMJDuUZBB"
      }
    },
    {
      "cell_type": "code",
      "source": [
        "# Determinant using NumPy\n",
        "det_A = np.linalg.det(matrix_A)\n",
        "print(\"\\nDeterminant of Matrix A:\", det_A)"
      ],
      "metadata": {
        "colab": {
          "base_uri": "https://localhost:8080/"
        },
        "id": "XxPDFeCJSSNC",
        "outputId": "7d2875b3-faa0-44eb-d09e-88c92ad1ef60"
      },
      "execution_count": 14,
      "outputs": [
        {
          "output_type": "stream",
          "name": "stdout",
          "text": [
            "\n",
            "Determinant of Matrix A: 0.0\n"
          ]
        }
      ]
    },
    {
      "cell_type": "markdown",
      "source": [
        "##Manual Cofactor Method"
      ],
      "metadata": {
        "id": "ZE8XSY-lUUwg"
      }
    },
    {
      "cell_type": "code",
      "source": [
        "# Determinant of a 2x2 matrix using the cofactor method\n",
        "matrix_C = np.array([[4, 6], [3, 8]])\n",
        "det_C = (matrix_C[0, 0] * matrix_C[1, 1]) - (matrix_C[0, 1] * matrix_C[1, 0])\n",
        "print(\"Determinant of Matrix C:\", det_C)"
      ],
      "metadata": {
        "colab": {
          "base_uri": "https://localhost:8080/"
        },
        "id": "NeHZ1OOuSaHr",
        "outputId": "2339a242-002b-413b-c9f0-89ab0c63b264"
      },
      "execution_count": 15,
      "outputs": [
        {
          "output_type": "stream",
          "name": "stdout",
          "text": [
            "Determinant of Matrix C: 14\n"
          ]
        }
      ]
    },
    {
      "cell_type": "markdown",
      "source": [
        "##Practice Problem 3:"
      ],
      "metadata": {
        "id": "OKbHJULaUR9L"
      }
    },
    {
      "cell_type": "code",
      "source": [
        "matrix_D = np.array([\n",
        "    [1, 2, 3],\n",
        "    [0, 4, 5],\n",
        "    [1, 0, 6]\n",
        "])\n",
        "\n",
        "det_D = np.linalg.det(matrix_D)\n",
        "print(\"Determinant of Matrix D:\", det_D)"
      ],
      "metadata": {
        "colab": {
          "base_uri": "https://localhost:8080/"
        },
        "id": "LamnGTR-S10O",
        "outputId": "26533937-3be9-47d5-ec7b-3e8e69734ba2"
      },
      "execution_count": 17,
      "outputs": [
        {
          "output_type": "stream",
          "name": "stdout",
          "text": [
            "Determinant of Matrix D: 22.000000000000004\n"
          ]
        }
      ]
    },
    {
      "cell_type": "markdown",
      "source": [
        "#Section 4: Practice Problems\n",
        "##Practice Problem 4: Application in Computer Science\n"
      ],
      "metadata": {
        "id": "zXFs0aa5UKsg"
      }
    },
    {
      "cell_type": "code",
      "source": [
        "matrix_3x33 = np.random.randint(0, 256, size=(3, 33))\n",
        "matrix_33x3 = np.random.randint(0, 256, size=(33, 3))\n",
        "\n",
        "# Perform matrix multiplication\n",
        "resultant_matrix = np.dot(matrix_3x33, matrix_33x3)\n",
        "\n",
        "# Transpose and determinant\n",
        "transpose = np.transpose(resultant_matrix)\n",
        "determinant = np.linalg.det(resultant_matrix)\n",
        "\n",
        "print(\"Transpose of the Resultant Matrix:\", transpose)\n",
        "\n",
        "\n",
        "print(\"Determinant of the Resultant Matrix:\",determinant)"
      ],
      "metadata": {
        "colab": {
          "base_uri": "https://localhost:8080/"
        },
        "id": "WTu6_puxTOFR",
        "outputId": "698bc6b4-662e-4f9b-cedd-aaca2763194a"
      },
      "execution_count": 25,
      "outputs": [
        {
          "output_type": "stream",
          "name": "stdout",
          "text": [
            "Transpose of the Resultant Matrix: [[528544 573183 468221]\n",
            " [471441 516625 397767]\n",
            " [539477 628096 498954]]\n",
            "Determinant of the Resultant Matrix: 511861211404357.94\n"
          ]
        }
      ]
    },
    {
      "cell_type": "markdown",
      "source": [
        "##Practice Problem 5: Symmetric Matrices in Machine Learning"
      ],
      "metadata": {
        "id": "DDRFUwhXUEh4"
      }
    },
    {
      "cell_type": "code",
      "source": [
        "symmetric_matrix = np.random.randint(0, 100, size=(3, 3))\n",
        "\n",
        "is_symmetric = np.array_equal(symmetric_matrix, symmetric_matrix.T)\n",
        "\n",
        "print(\"Symmetric Matrix:\\n\", symmetric_matrix)\n",
        "print(\"\\nIs the matrix symmetric?\", is_symmetric)"
      ],
      "metadata": {
        "colab": {
          "base_uri": "https://localhost:8080/"
        },
        "id": "2Nbty0L-TiOz",
        "outputId": "be4305dc-383b-44db-dc1c-e839e8d56b8a"
      },
      "execution_count": 24,
      "outputs": [
        {
          "output_type": "stream",
          "name": "stdout",
          "text": [
            "Symmetric Matrix:\n",
            " [[98 81  8]\n",
            " [93 69 14]\n",
            " [20 61 79]]\n",
            "\n",
            "Is the matrix symmetric? False\n"
          ]
        }
      ]
    }
  ]
}